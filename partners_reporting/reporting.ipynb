# Перепривязка сводных таблиц к динамическому диапазону листа "Данные" после копирования "Сводная"

import xlwings as xw
from pathlib import Path

# Папка с подпапками
base_dir = Path("/Users/efanov_ra/Desktop/Задачи/Выгрузка поставщикам 2/Итоговые выгрузки/Повторная выгрузка")

# Путь к шаблону
template_file = Path("/Users/efanov_ra/Desktop/Задачи/Выгрузка поставщикам 2/Итоговые выгрузки/Руслан итог/АВАНГАРД ООО - GKC-179969/АВАНГАРД ООО - GKC-179969.xlsx")
pivot_sheet_name = "Сводная"

app = xw.App(visible=False)
template_wb = xw.Book(template_file)

for folder in base_dir.iterdir():
    if not folder.is_dir() or folder.name == "Эталон":
        continue

    file_name = folder.name + ".xlsx"
    file_path = folder / file_name

    if not file_path.exists():
        print(f"Файл не найден: {file_path}")
        continue

    wb = xw.Book(file_path)
    try:
        # Удаляем старый лист "Сводная", если он есть
        if pivot_sheet_name in [s.name for s in wb.sheets]:
            wb.sheets[pivot_sheet_name].delete()

        # Проверяем наличие листа "Данные" (важно точное имя)
        data_sheet = None
        if "Данные" in [s.name for s in wb.sheets]:
            data_sheet = wb.sheets["Данные"]
            # Сначала копируем "Сводная" сразу после "Данные"
            template_wb.sheets[pivot_sheet_name].copy(after=data_sheet)
        else:
            # Если листа "Данные" нет, просто копируем в конец (но привязка не выполнится)
            template_wb.sheets[pivot_sheet_name].copy(after=wb.sheets[-1])

        pivot_sheet = wb.sheets[pivot_sheet_name]

        if data_sheet is not None:
            # Берём динамический диапазон по фактически занятым ячейкам
            used = data_sheet.used_range
            if used is None or used.value is None:
                print(f"Лист 'Данные' пуст в файле: {file_path}")
            else:
                # Адрес диапазона с именем листа, без внешнего пути
                source_address = used.get_address(include_sheetname=True, external=False)

                # Создаём PivotCache от диапазона (1 = xlDatabase)
                pivot_caches = wb.api.PivotCaches()
                new_cache = pivot_caches.Create(1, source_address)

                # Обновляем все сводные таблицы на листе "Сводная"
                pt_count = pivot_sheet.api.PivotTables().Count
                for i in range(1, pt_count + 1):
                    pt = pivot_sheet.api.PivotTables(i)
                    pt.ChangePivotCache(new_cache)
                    pt.RefreshTable()

                # Также обновим формулы/связи на всякий случай
                wb.api.RefreshAll()

        wb.save()
        print(f"Перепривязка сводных к листу 'Данные' выполнена: {file_path}")
    finally:
        wb.close()

# Закрываем шаблон и Excel
template_wb.close()
app.quit(){
 "cells": [
  {
   "cell_type": "markdown",
   "id": "bf71ce48-3a23-4449-89de-6eb6048b5c24",
   "metadata": {},
   "source": [
    "Нужная библиотека\n",
    "\n",
    "pip install gspread pydrive2 google-auth google-api-python-client"
   ]
  },
  {
   "cell_type": "code",
   "execution_count": 105,
   "id": "5f083d24-bd68-4b79-a40e-38f8e0df6960",
   "metadata": {},
   "outputs": [],
   "source": [
    "# Подключаемся к Teradata\n",
    "\n",
    "import pandas as pd\n",
    "import logging\n",
    "import psycopg2\n",
    "import os\n",
    "import clickhouse_connect\n",
    "import teradatasql\n",
    "import time\n",
    "import os\n",
    "from datetime import datetime\n",
    "import teradatasql\n",
    "from dotenv import load_dotenv\n",
    "from google.oauth2 import service_account\n",
    "from googleapiclient.discovery import build\n",
    "from googleapiclient.http import MediaFileUpload\n",
    "load_dotenv(override = True)\n",
    "\n",
    "# Логирование\n",
    "logging.basicConfig(\n",
    "    level=logging.INFO,\n",
    "    format='%(asctime)s [%(levelname)s] %(message)s',\n",
    "    datefmt='%Y-%m-%d %H:%M:%S'\n",
    ")\n"
   ]
  },
  {
   "cell_type": "code",
   "execution_count": 101,
   "id": "f10ec6bc-1195-4983-af48-52b7da951040",
   "metadata": {
    "scrolled": true
   },
   "outputs": [],
   "source": [
    "#Вариант №1 - загрузка через CSV\n",
    "\n",
    "import pandas as pd\n",
    "\n",
    "file_path = \"/Users/efanov_ra/Desktop/Задачи/Выгрузка поставщикам 2/our_data_v2_7month.csv\"\n",
    "\n",
    "# Читаем CSV в DataFrame\n",
    "df = pd.read_csv(file_path, sep=\",\", encoding=\"utf-8\")\n",
    "\n"
   ]
  },
  {
   "cell_type": "code",
   "execution_count": 107,
   "id": "fb1a5a97-4b9d-442c-bd81-70440dbc6367",
   "metadata": {},
   "outputs": [
    {
     "name": "stderr",
     "output_type": "stream",
     "text": [
      "2025-08-21 14:51:07 [INFO] Установка соединения с Teradata\n",
      "2025-08-21 14:51:10 [INFO] Выполнение запроса: \n",
      "select \n",
      "    CALC_DT,\n",
      "    YEAR_ID as \"Год\",\n",
      "    MONTH_ID as \"Месяц\",\n",
      "    WEEK_ID_2 as \"Неделя\",\n",
      "    BRANCH_NAME as \"Филиал\",\n",
      "    CITY_NAME as \"Город\",\n",
      "    frmt_dc   as \"Формат\",\n",
      "    a.ART_GRP_LVL_0_NAME  as \"ГР20\",\n",
      "    a.ART_GRP_LVL_1_NAME  as \"Гр21\",\n",
      "    a.ART_GRP_LVL_2_NAME  as \"Гр22\",\n",
      "    b.ART_GRP_LVL_3_NAME  as \"ГР23\",\n",
      "    a.ART_GRP_2_LVL_0_NAME as \"Вендор\",\n",
      "    b.ART_GRP_2_LVL_1_NAME as \"Бренд\",\n",
      "    CNTR_KIS_ID,\n",
      "    CNTR_CODE  as \"Код КА\",\n",
      "    CNTR_NAME  as \"КА\",\n",
      "    ART_NAME   as \"Товар\",\n",
      "    ART_CODE   as \"Товар Код\",\n",
      "    IS_PROMO_FROM_AUM as \"Промо\",\n",
      "    QNTY       as \"Продажи, шт.\",\n",
      "    CP_SUM     as \"Себестоимость с НДС, руб\",\n",
      "    CP_SUM_WO_NDS as \"Себестоимость без НДС, руб\"\n",
      "from  USER_DM.V_E_COM_MAGREP_4_KA as a\n",
      "left join prd_vd_dm.v_art_ext as b \n",
      "    on a.art_id = b.art_id\n",
      "where cntr_kis_id in (71000,\n",
      "690903)\n",
      "and MONTH_ID ='202507'\n",
      "      \n",
      "2025-08-21 14:52:42 [INFO] Запрос выполнен успешно, получено 44484 строк\n",
      "2025-08-21 14:52:42 [INFO] Закрытие соединения\n"
     ]
    }
   ],
   "source": [
    "#Вариант №2 - загрзука через SQL\n",
    "\n",
    "try:\n",
    "  logging.info(\"Установка соединения с Teradata\")\n",
    "  conn = teradatasql.connect(\n",
    "  host=\"teradata\",\n",
    "  user=os.getenv('teradata_user'),\n",
    "  password=os.getenv('teradata_pass'),\n",
    "  logmech=\"LDAP\",\n",
    "  tmode=\"ANSI\",\n",
    "  encryptdata=\"true\"\n",
    ")\n",
    "  cursor = conn.cursor()\n",
    "\n",
    "  query = \"\"\"\n",
    "select \n",
    "    CALC_DT,\n",
    "    YEAR_ID as \"Год\",\n",
    "    MONTH_ID as \"Месяц\",\n",
    "    WEEK_ID_2 as \"Неделя\",\n",
    "    BRANCH_NAME as \"Филиал\",\n",
    "    CITY_NAME as \"Город\",\n",
    "    frmt_dc   as \"Формат\",\n",
    "    a.ART_GRP_LVL_0_NAME  as \"ГР20\",\n",
    "    a.ART_GRP_LVL_1_NAME  as \"Гр21\",\n",
    "    a.ART_GRP_LVL_2_NAME  as \"Гр22\",\n",
    "    b.ART_GRP_LVL_3_NAME  as \"ГР23\",\n",
    "    a.ART_GRP_2_LVL_0_NAME as \"Вендор\",\n",
    "    b.ART_GRP_2_LVL_1_NAME as \"Бренд\",\n",
    "    CNTR_KIS_ID,\n",
    "    CNTR_CODE  as \"Код КА\",\n",
    "    CNTR_NAME  as \"КА\",\n",
    "    ART_NAME   as \"Товар\",\n",
    "    ART_CODE   as \"Товар Код\",\n",
    "    IS_PROMO_FROM_AUM as \"Промо\",\n",
    "    QNTY       as \"Продажи, шт.\",\n",
    "    CP_SUM     as \"Себестоимость с НДС, руб\",\n",
    "    CP_SUM_WO_NDS as \"Себестоимость без НДС, руб\"\n",
    "from  USER_DM.V_E_COM_MAGREP_4_KA as a\n",
    "left join prd_vd_dm.v_art_ext as b \n",
    "    on a.art_id = b.art_id\n",
    "where cntr_kis_id in (71000,\n",
    "690903)\n",
    "and MONTH_ID ='202507'\n",
    "      \"\"\"\n",
    "  logging.info(f\"Выполнение запроса: {query}\")\n",
    "  cursor.execute(query)\n",
    "\n",
    "  results = cursor.fetchall()\n",
    "  columns = [desc[0] for desc in cursor.description]\n",
    "  df = pd.DataFrame(results, columns=columns)\n",
    "\n",
    "  logging.info(f\"Запрос выполнен успешно, получено {len(df)} строк\")\n",
    "\n",
    "except Exception as e:\n",
    "  logging.error(\"Ошибка при работе с Teradata: %s\", e, exc_info=True)\n",
    "\n",
    "finally:\n",
    "  logging.info(\"Закрытие соединения\")\n",
    "  if cursor:\n",
    "      cursor.close()\n",
    "  if conn:\n",
    "      conn.close()"
   ]
  },
  {
   "cell_type": "code",
   "execution_count": 110,
   "id": "5076ad42-4e45-4cc7-8b63-52908c4e689c",
   "metadata": {},
   "outputs": [
    {
     "data": {
      "text/html": [
       "<div>\n",
       "<style scoped>\n",
       "    .dataframe tbody tr th:only-of-type {\n",
       "        vertical-align: middle;\n",
       "    }\n",
       "\n",
       "    .dataframe tbody tr th {\n",
       "        vertical-align: top;\n",
       "    }\n",
       "\n",
       "    .dataframe thead th {\n",
       "        text-align: right;\n",
       "    }\n",
       "</style>\n",
       "<table border=\"1\" class=\"dataframe\">\n",
       "  <thead>\n",
       "    <tr style=\"text-align: right;\">\n",
       "      <th></th>\n",
       "      <th>CNTR_KIS_ID</th>\n",
       "      <th>КА</th>\n",
       "    </tr>\n",
       "  </thead>\n",
       "  <tbody>\n",
       "    <tr>\n",
       "      <th>0</th>\n",
       "      <td>71000</td>\n",
       "      <td>43015</td>\n",
       "    </tr>\n",
       "    <tr>\n",
       "      <th>1</th>\n",
       "      <td>690903</td>\n",
       "      <td>1469</td>\n",
       "    </tr>\n",
       "  </tbody>\n",
       "</table>\n",
       "</div>"
      ],
      "text/plain": [
       "   CNTR_KIS_ID     КА\n",
       "0        71000  43015\n",
       "1       690903   1469"
      ]
     },
     "execution_count": 110,
     "metadata": {},
     "output_type": "execute_result"
    }
   ],
   "source": [
    "#Количество строк наименьшее по поставщикам\n",
    "\n",
    "ss = df.groupby(['CNTR_KIS_ID'])['КА'].count().reset_index()\n",
    "\n",
    "ss.sort_values(by = 'КА', ascending = False).tail(20)"
   ]
  },
  {
   "cell_type": "code",
   "execution_count": 111,
   "id": "216b2d1c-a47d-40d7-973d-38450e85e685",
   "metadata": {},
   "outputs": [
    {
     "data": {
      "text/plain": [
       "2"
      ]
     },
     "execution_count": 111,
     "metadata": {},
     "output_type": "execute_result"
    }
   ],
   "source": [
    "kis_unique = df.CNTR_KIS_ID.unique()\n",
    "\n",
    "kis_unique\n",
    "\n",
    "check = len(kis_unique)\n",
    "\n",
    "check"
   ]
  },
  {
   "cell_type": "code",
   "execution_count": 112,
   "id": "74e63cb2-5af5-44f8-ba12-6f617e5a9458",
   "metadata": {
    "scrolled": true
   },
   "outputs": [
    {
     "name": "stdout",
     "output_type": "stream",
     "text": [
      "Сохраняю для 71000, размер 43015\n",
      "Осталось 1, файл сохранён: /Users/efanov_ra/Desktop/Задачи/Выгрузка поставщикам 2/Итоговые выгрузки/Повторная выгрузка/Ресурс-Юг ТК ООО - GKC-008069/Ресурс-Юг ТК ООО - GKC-008069.xlsx\n",
      "Сохраняю для 690903, размер 1469\n",
      "Осталось 0, файл сохранён: /Users/efanov_ra/Desktop/Задачи/Выгрузка поставщикам 2/Итоговые выгрузки/Повторная выгрузка/ЕАГ ТРЕЙД ООО - GKC-166301/ЕАГ ТРЕЙД ООО - GKC-166301.xlsx\n"
     ]
    }
   ],
   "source": [
    "#Создаем подпапку и в нее добавляем файл, получается у нас есть папка с названием\n",
    "#Славянка-торг ООО - KRF-0000000000028492 и файл внутри нее Славянка-торг ООО - KRF-0000000000028492.xlsx\n",
    "\n",
    "base_dir = \"/Users/efanov_ra/Desktop/Задачи/Выгрузка поставщикам 2/Итоговые выгрузки/Повторная выгрузка\"\n",
    "\n",
    "for kis in kis_unique:\n",
    "    change_df = df[df.CNTR_KIS_ID == kis]\n",
    "\n",
    "    print(f'Сохраняю для {kis}, размер {len(change_df)}')\n",
    "\n",
    "    ka_name = df.loc[df.CNTR_KIS_ID == kis, 'КА'].unique()[0]\n",
    "    ka_code = df.loc[df.CNTR_KIS_ID == kis, 'Код КА'].unique()[0]\n",
    "\n",
    "    folder_name = f\"{ka_name} - {ka_code}\"\n",
    "    folder_path = os.path.join(base_dir, folder_name)\n",
    "\n",
    "    # создаём папку, если её нет\n",
    "    os.makedirs(folder_path, exist_ok=True)\n",
    "\n",
    "    file_name = f\"{ka_name} - {ka_code}.xlsx\"\n",
    "    file_path = os.path.join(folder_path, file_name)\n",
    "\n",
    "    change_df.to_excel(file_path, sheet_name=\"Данные\", index=False)\n",
    "\n",
    "    check -= 1\n",
    "    print(f'Осталось {check}, файл сохранён: {file_path}')\n"
   ]
  },
  {
   "cell_type": "code",
   "execution_count": 115,
   "id": "cfeb0b41-9110-4555-8998-f6a5792c8558",
   "metadata": {
    "scrolled": true
   },
   "outputs": [
    {
     "name": "stdout",
     "output_type": "stream",
     "text": [
      "Лист 'Сводная' скопирован в файл: /Users/efanov_ra/Desktop/Задачи/Выгрузка поставщикам 2/Итоговые выгрузки/Повторная выгрузка/ЕАГ ТРЕЙД ООО - GKC-166301/ЕАГ ТРЕЙД ООО - GKC-166301.xlsx\n",
      "Лист 'Сводная' скопирован в файл: /Users/efanov_ra/Desktop/Задачи/Выгрузка поставщикам 2/Итоговые выгрузки/Повторная выгрузка/Ресурс-Юг ТК ООО - GKC-008069/Ресурс-Юг ТК ООО - GKC-008069.xlsx\n"
     ]
    }
   ],
   "source": [
    "#Копируем страницу \"Сводная\" из \"Эталон\" в нужные нам файлы\n",
    "#здесь подпапки, то есть файлы по каждому поставщику хранятся в его папке\n",
    "\n",
    "import xlwings as xw\n",
    "from pathlib import Path\n",
    "\n",
    "# Папка с подпапками\n",
    "base_dir = Path(\"/Users/efanov_ra/Desktop/Задачи/Выгрузка поставщикам 2/Итоговые выгрузки/Повторная выгрузка\")\n",
    "\n",
    "# Путь к шаблону\n",
    "template_file = Path(\"/Users/efanov_ra/Desktop/Задачи/Выгрузка поставщикам 2/Итоговые выгрузки/Руслан итог/АВАНГАРД ООО - GKC-179969/АВАНГАРД ООО - GKC-179969.xlsx\")\n",
    "pivot_sheet_name = \"Сводная\"\n",
    "\n",
    "# Запускаем Excel в фоне\n",
    "app = xw.App(visible=False)\n",
    "template_wb = xw.Book(template_file)\n",
    "\n",
    "# Перебираем все подпапки\n",
    "for folder in base_dir.iterdir():\n",
    "    if folder.is_dir() and folder.name != \"Эталон\":  # игнорируем папку Эталон\n",
    "        # Формируем имя файла внутри папки\n",
    "        file_name = folder.name + \".xlsx\"\n",
    "        file_path = folder / file_name\n",
    "        \n",
    "        if not file_path.exists():\n",
    "            print(f\"Файл не найден: {file_path}\")\n",
    "            continue\n",
    "        \n",
    "        # Открываем файл\n",
    "        wb = xw.Book(file_path)\n",
    "        \n",
    "        # Удаляем старый лист \"Сводная\", если он есть\n",
    "        if pivot_sheet_name in [s.name for s in wb.sheets]:\n",
    "            wb.sheets[pivot_sheet_name].delete()\n",
    "        \n",
    "        # Находим лист \"Данные\"\n",
    "        if \"Данные\" in [s.name for s in wb.sheets]:\n",
    "            data_sheet = wb.sheets[\"Данные\"]\n",
    "            # Копируем лист \"Сводная\" после листа \"Данные\"\n",
    "            template_wb.sheets[pivot_sheet_name].copy(after=data_sheet)\n",
    "        else:\n",
    "            # Если листа \"Данные\" нет, вставляем в конец\n",
    "            template_wb.sheets[pivot_sheet_name].copy(after=wb.sheets[-1])\n",
    "        \n",
    "        # Сохраняем и закрываем файл\n",
    "        wb.save()\n",
    "        wb.close()\n",
    "        print(f\"Лист 'Сводная' скопирован в файл: {file_path}\")\n",
    "\n",
    "# Закрываем шаблон и Excel\n",
    "template_wb.close()\n",
    "app.quit()\n"
   ]
  },
  {
   "cell_type": "code",
   "execution_count": 39,
   "id": "5a0b3219-0834-4726-b6f1-f6b9c520bf69",
   "metadata": {},
   "outputs": [
    {
     "name": "stdout",
     "output_type": "stream",
     "text": [
      "                                                  Файл  Значение B26\n",
      "0                  Интер-С Групп ООО - GKC-207319.xlsx    40579.3248\n",
      "1                   Волгопродукт ООО - GKC-154549.xlsx   132717.2114\n",
      "2              Пчельник Компания ООО - GKC-168885.xlsx     2951.3604\n",
      "3                         Тимсон ООО - GKC-003070.xlsx      311.4850\n",
      "4    ПРОЕКТ СВЕЖИЙ ХЛЕБ АО - KRF-0000000000026445.xlsx   332167.9700\n",
      "..                                                 ...           ...\n",
      "173                 Приправка.РУ ООО - GKC-204452.xlsx    25216.2338\n",
      "174                     СПК ФУДС ООО - GKC-212704.xlsx    36529.4003\n",
      "175                   ФабрикантЪ ООО - GKC-215859.xlsx    33418.3196\n",
      "176                  Август фирма АО - GKC-004211.xlsx    16754.6683\n",
      "177                         Ника ООО - GKC-185337.xlsx    82827.6834\n",
      "\n",
      "[178 rows x 2 columns]\n"
     ]
    }
   ],
   "source": [
    "#Проверка, чтобы значение в колонке 'B26' не было таким же как у файла Эталон\n",
    "#Нужно посмотреть значение в \"Эталон\" и сверить здесь с другими файлами\n",
    "\n",
    "import xlwings as xw\n",
    "from pathlib import Path\n",
    "import pandas as pd\n",
    "\n",
    "# Путь к папке с подпапками\n",
    "base_dir = Path(\"/Users/efanov_ra/Desktop/Задачи/Выгрузка поставщикам 2/Итоговые выгрузки/Руслан итог\")\n",
    "\n",
    "app = xw.App(visible=False)\n",
    "\n",
    "results = []\n",
    "\n",
    "for folder in base_dir.iterdir():\n",
    "    if folder.is_dir() and folder.name != \"Эталон\":\n",
    "        file_name = folder.name + \".xlsx\"\n",
    "        file_path = folder / file_name\n",
    "\n",
    "        if file_path.exists():\n",
    "            wb = xw.Book(file_path)\n",
    "            try:\n",
    "                if \"Сводная\" in [s.name for s in wb.sheets]:\n",
    "                    value = wb.sheets[\"Сводная\"].range(\"B26\").value\n",
    "                else:\n",
    "                    value = None\n",
    "\n",
    "                results.append({\"Файл\": file_name, \"Значение B26\": value})\n",
    "\n",
    "\n",
    "            finally:\n",
    "                wb.close() \n",
    "        else:\n",
    "            print(f\"Файл не найден: {file_path}\")\n",
    "\n",
    "df_check = pd.DataFrame(results)\n",
    "\n",
    "app.quit()\n",
    "\n",
    "df_check.sort_values('Значение B26', ascending = False)"
   ]
  },
  {
   "cell_type": "code",
   "execution_count": 71,
   "id": "8d81d33f-d4f4-4b86-98fe-8352089e504d",
   "metadata": {
    "scrolled": true
   },
   "outputs": [
    {
     "data": {
      "text/html": [
       "<div>\n",
       "<style scoped>\n",
       "    .dataframe tbody tr th:only-of-type {\n",
       "        vertical-align: middle;\n",
       "    }\n",
       "\n",
       "    .dataframe tbody tr th {\n",
       "        vertical-align: top;\n",
       "    }\n",
       "\n",
       "    .dataframe thead th {\n",
       "        text-align: right;\n",
       "    }\n",
       "</style>\n",
       "<table border=\"1\" class=\"dataframe\">\n",
       "  <thead>\n",
       "    <tr style=\"text-align: right;\">\n",
       "      <th></th>\n",
       "      <th>Файл</th>\n",
       "      <th>Значение B26</th>\n",
       "      <th>КА</th>\n",
       "    </tr>\n",
       "  </thead>\n",
       "  <tbody>\n",
       "    <tr>\n",
       "      <th>0</th>\n",
       "      <td>Интер-С Групп ООО - GKC-207319.xlsx</td>\n",
       "      <td>40579.3248</td>\n",
       "      <td>129</td>\n",
       "    </tr>\n",
       "    <tr>\n",
       "      <th>1</th>\n",
       "      <td>Волгопродукт ООО - GKC-154549.xlsx</td>\n",
       "      <td>132717.2114</td>\n",
       "      <td>682</td>\n",
       "    </tr>\n",
       "    <tr>\n",
       "      <th>2</th>\n",
       "      <td>Пчельник Компания ООО - GKC-168885.xlsx</td>\n",
       "      <td>2951.3604</td>\n",
       "      <td>19</td>\n",
       "    </tr>\n",
       "    <tr>\n",
       "      <th>3</th>\n",
       "      <td>Тимсон ООО - GKC-003070.xlsx</td>\n",
       "      <td>311.4850</td>\n",
       "      <td>1</td>\n",
       "    </tr>\n",
       "    <tr>\n",
       "      <th>4</th>\n",
       "      <td>ПРОЕКТ СВЕЖИЙ ХЛЕБ АО - KRF-0000000000026445.xlsx</td>\n",
       "      <td>332167.9700</td>\n",
       "      <td>1896</td>\n",
       "    </tr>\n",
       "    <tr>\n",
       "      <th>...</th>\n",
       "      <td>...</td>\n",
       "      <td>...</td>\n",
       "      <td>...</td>\n",
       "    </tr>\n",
       "    <tr>\n",
       "      <th>173</th>\n",
       "      <td>Приправка.РУ ООО - GKC-204452.xlsx</td>\n",
       "      <td>25216.2338</td>\n",
       "      <td>593</td>\n",
       "    </tr>\n",
       "    <tr>\n",
       "      <th>174</th>\n",
       "      <td>СПК ФУДС ООО - GKC-212704.xlsx</td>\n",
       "      <td>36529.4003</td>\n",
       "      <td>730</td>\n",
       "    </tr>\n",
       "    <tr>\n",
       "      <th>175</th>\n",
       "      <td>ФабрикантЪ ООО - GKC-215859.xlsx</td>\n",
       "      <td>33418.3196</td>\n",
       "      <td>143</td>\n",
       "    </tr>\n",
       "    <tr>\n",
       "      <th>176</th>\n",
       "      <td>Август фирма АО - GKC-004211.xlsx</td>\n",
       "      <td>16754.6683</td>\n",
       "      <td>191</td>\n",
       "    </tr>\n",
       "    <tr>\n",
       "      <th>177</th>\n",
       "      <td>Ника ООО - GKC-185337.xlsx</td>\n",
       "      <td>82827.6834</td>\n",
       "      <td>48</td>\n",
       "    </tr>\n",
       "  </tbody>\n",
       "</table>\n",
       "<p>178 rows × 3 columns</p>\n",
       "</div>"
      ],
      "text/plain": [
       "                                                  Файл  Значение B26    КА\n",
       "0                  Интер-С Групп ООО - GKC-207319.xlsx    40579.3248   129\n",
       "1                   Волгопродукт ООО - GKC-154549.xlsx   132717.2114   682\n",
       "2              Пчельник Компания ООО - GKC-168885.xlsx     2951.3604    19\n",
       "3                         Тимсон ООО - GKC-003070.xlsx      311.4850     1\n",
       "4    ПРОЕКТ СВЕЖИЙ ХЛЕБ АО - KRF-0000000000026445.xlsx   332167.9700  1896\n",
       "..                                                 ...           ...   ...\n",
       "173                 Приправка.РУ ООО - GKC-204452.xlsx    25216.2338   593\n",
       "174                     СПК ФУДС ООО - GKC-212704.xlsx    36529.4003   730\n",
       "175                   ФабрикантЪ ООО - GKC-215859.xlsx    33418.3196   143\n",
       "176                  Август фирма АО - GKC-004211.xlsx    16754.6683   191\n",
       "177                         Ника ООО - GKC-185337.xlsx    82827.6834    48\n",
       "\n",
       "[178 rows x 3 columns]"
      ]
     },
     "execution_count": 71,
     "metadata": {},
     "output_type": "execute_result"
    }
   ],
   "source": [
    "#Проверка на совпадение по строкам\n",
    "\n",
    "df['Файл'] = df['КА'] + ' - ' + df['Код КА'] + '.xlsx'\n",
    "\n",
    "tests = df.groupby(['Файл'])['КА'].count().reset_index()\n",
    "\n",
    "test2 = df_check.merge(tests, how = 'left', on = 'Файл')\n",
    "\n",
    "test2"
   ]
  },
  {
   "cell_type": "code",
   "execution_count": null,
   "id": "43a326cd-0f4f-4867-860d-4556756e8fd2",
   "metadata": {},
   "outputs": [],
   "source": []
  }
 ],
 "metadata": {
  "kernelspec": {
   "display_name": "Python [conda env:base] *",
   "language": "python",
   "name": "conda-base-py"
  },
  "language_info": {
   "codemirror_mode": {
    "name": "ipython",
    "version": 3
   },
   "file_extension": ".py",
   "mimetype": "text/x-python",
   "name": "python",
   "nbconvert_exporter": "python",
   "pygments_lexer": "ipython3",
   "version": "3.11.0"
  }
 },
 "nbformat": 4,
 "nbformat_minor": 5
}
